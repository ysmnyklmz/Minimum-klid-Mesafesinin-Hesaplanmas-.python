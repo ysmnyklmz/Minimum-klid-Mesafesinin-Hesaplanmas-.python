{
  "nbformat": 4,
  "nbformat_minor": 0,
  "metadata": {
    "colab": {
      "provenance": [],
      "authorship_tag": "ABX9TyPdca6Yfd50SONth97eg8wE",
      "include_colab_link": true
    },
    "kernelspec": {
      "name": "python3",
      "display_name": "Python 3"
    },
    "language_info": {
      "name": "python"
    }
  },
  "cells": [
    {
      "cell_type": "markdown",
      "metadata": {
        "id": "view-in-github",
        "colab_type": "text"
      },
      "source": [
        "<a href=\"https://colab.research.google.com/github/ysmnyklmz/Minimum-klid-Mesafesinin-Hesaplanmas-.python/blob/main/Minimum_%C3%96klid_Mesafesinin_Hesaplanmas%C4%B1_python.ipynb\" target=\"_parent\"><img src=\"https://colab.research.google.com/assets/colab-badge.svg\" alt=\"Open In Colab\"/></a>"
      ]
    },
    {
      "cell_type": "code",
      "execution_count": 1,
      "metadata": {
        "id": "4QKIo44e2YoV"
      },
      "outputs": [],
      "source": [
        "import math\n",
        "#Bu kod satırı, matematik işlemleri için gerekli olan math kütüphanesini import eder.\n",
        "\n"
      ]
    },
    {
      "cell_type": "code",
      "source": [
        "\n",
        "def euclidean_distance(x1, y1, x2, y2):\n",
        "  \"\"\"\n",
        "  İki nokta arasındaki Öklid Uzay Mesafesi'ni hesaplar.\n",
        "\n",
        "  Args:\n",
        "    x1: İlk noktanın x koordinatı.\n",
        "    y1: İlk noktanın y koordinatı.\n",
        "    x2: İkinci noktanın x koordinatı.\n",
        "    y2: İkinci noktanın y koordinatı.\n",
        "\n",
        "  Returns:\n",
        "    İki nokta arasındaki Öklid Uzay Mesafesi.\n",
        "  \"\"\"\n",
        "  distance = math.sqrt((x2 - x1)**2 + (y2 - y1)**2)\n",
        "  return distance\n",
        "\n",
        "def main():\n",
        "  # Klavyeden koordinatları girme\n",
        "  print(\"İlk noktanın x koordinatını girin:\")\n",
        "  x1 = float(input())\n",
        "  print(\"İlk noktanın y koordinatını girin:\")\n",
        "  y1 = float(input())\n",
        "  print(\"İkinci noktanın x koordinatını girin:\")\n",
        "  x2 = float(input())\n",
        "  print(\"İkinci noktanın y koordinatını girin:\")\n",
        "  y2 = float(input())\n",
        "\n",
        "  # Öklid Uzay Mesafesi'ni hesaplama\n",
        "  distance = euclidean_distance(x1, y1, x2, y2)\n",
        "\n",
        "  # Sonucu yazdırma\n",
        "  print(f\"Noktalar arasındaki Öklid Uzay Mesafesi: {distance}\")\n",
        "\n",
        "# Programın çalıştırılması\n",
        "if __name__ == \"__main__\":\n",
        "  main()\n"
      ],
      "metadata": {
        "colab": {
          "base_uri": "https://localhost:8080/"
        },
        "id": "kQhnMLYn2f--",
        "outputId": "2cbe7af8-60b2-4699-f8cb-1b5fc74f7ab6"
      },
      "execution_count": 4,
      "outputs": [
        {
          "output_type": "stream",
          "name": "stdout",
          "text": [
            "İlk noktanın x koordinatını girin:\n",
            "6\n",
            "İlk noktanın y koordinatını girin:\n",
            "8\n",
            "İkinci noktanın x koordinatını girin:\n",
            "4\n",
            "İkinci noktanın y koordinatını girin:\n",
            "1.5\n",
            "Noktalar arasındaki Öklid Uzay Mesafesi: 6.800735254367722\n"
          ]
        }
      ]
    }
  ]
}